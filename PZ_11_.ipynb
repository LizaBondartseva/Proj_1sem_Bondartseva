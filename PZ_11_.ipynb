{
  "nbformat": 4,
  "nbformat_minor": 0,
  "metadata": {
    "colab": {
      "name": "PZ_11_.ipynb",
      "provenance": [],
      "authorship_tag": "ABX9TyPfWbdYPzHckCn8XcnmaSO7",
      "include_colab_link": true
    },
    "kernelspec": {
      "name": "python3",
      "display_name": "Python 3"
    },
    "language_info": {
      "name": "python"
    }
  },
  "cells": [
    {
      "cell_type": "markdown",
      "metadata": {
        "id": "view-in-github",
        "colab_type": "text"
      },
      "source": [
        "<a href=\"https://colab.research.google.com/github/LizaBondartseva/Proj_1sem_Bondartseva/blob/master/PZ_11_.ipynb\" target=\"_parent\"><img src=\"https://colab.research.google.com/assets/colab-badge.svg\" alt=\"Open In Colab\"/></a>"
      ]
    },
    {
      "cell_type": "markdown",
      "source": [
        "#Практическая №3\n",
        "#Дано целое число A. Проверить истинность высказывания: «Число A является четным»."
      ],
      "metadata": {
        "id": "kEjtpfW8dxz-"
      }
    },
    {
      "cell_type": "code",
      "execution_count": null,
      "metadata": {
        "id": "zBL9b9yEdofM"
      },
      "outputs": [],
      "source": [
        "while True:\n",
        "    try:\n",
        "        a = int(input('Введите число:'))\n",
        "        break\n",
        "    except ValueError:\n",
        "        print('Ошибка')\n",
        "if a % 2 == 0:\n",
        "    print('Четное')\n",
        "else:\n",
        "    print('Нечетное')"
      ]
    },
    {
      "cell_type": "markdown",
      "source": [
        "#Практическая №4\n",
        "#Дано вещественное число — цена 1 кг конфет. Вывести стоимость 1, 2, ..., 10 кг конфет.\n",
        "#Вариант №3"
      ],
      "metadata": {
        "id": "yNgxMgcYd1J_"
      }
    },
    {
      "cell_type": "code",
      "source": [
        "while True:\n",
        "    try:\n",
        "        a = float(input('Введте цену 1 кг конфет: '))\n",
        "        if a<=0:\n",
        "            print('Ошибка ввода')\n",
        "        else:\n",
        "            break\n",
        "    except:\n",
        "        print('Ошибка ввода введите число')\n",
        "\n",
        "k = int(1)\n",
        "while k<=10:\n",
        "    print('Цена', k, 'конфет:', a*k, 'рублей')\n",
        "    k += 1"
      ],
      "metadata": {
        "id": "z6YOi4Ehd1aV"
      },
      "execution_count": null,
      "outputs": []
    },
    {
      "cell_type": "markdown",
      "source": [
        "Практическая №5\n",
        "Вариант №3\n",
        "Составить программу, которая выполнит суммирование числового ряда."
      ],
      "metadata": {
        "id": "7l7CZaaAd6fn"
      }
    },
    {
      "cell_type": "code",
      "source": [
        "def summa(K):\n",
        "    p = 0\n",
        "    while K != 0:\n",
        "        p += K\n",
        "        K -= 1\n",
        "    return p\n",
        "\n",
        "K = int(input(\"Введите последнее число порядка: \"))\n",
        "print(\"Сумма порядка чисел =\", summa(K))"
      ],
      "metadata": {
        "id": "9mMRJAXjd6oO"
      },
      "execution_count": null,
      "outputs": []
    }
  ]
}